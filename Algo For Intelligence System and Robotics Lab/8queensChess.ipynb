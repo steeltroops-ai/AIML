{
 "cells": [
  {
   "cell_type": "code",
   "execution_count": null,
   "metadata": {},
   "outputs": [],
   "source": [
    "# Taking number of queens as input from user\n",
    "print (\"Enter the number of queens\")\n",
    "N = int(input())\n",
    "\n",
    "# here we create a chessboard\n",
    "# NxN matrix with all elements set to 0\n",
    "board = [[0]*N for _ in range(N)]\n",
    "\n",
    "def attack(i, j):\n",
    "    #checking vertically and horizontally\n",
    "    for k in range(0,N):\n",
    "        if board[i][k]==1 or board[k][j]==1:\n",
    "            return True\n",
    "    #checking diagonally\n",
    "    for k in range(0,N):\n",
    "        for l in range(0,N):\n",
    "            if (k+l==i+j) or (k-l==i-j):\n",
    "                if board[k][l]==1:\n",
    "                    return True\n",
    "    return False\n",
    "\n",
    "def N_queens(n):\n",
    "    if n==0:\n",
    "        return True\n",
    "    for i in range(0,N):\n",
    "        for j in range(0,N):\n",
    "            if (not(attack(i,j))) and (board[i][j]!=1):\n",
    "                board[i][j] = 1\n",
    "                if N_queens(n-1)==True:\n",
    "                    return True\n",
    "                board[i][j] = 0\n",
    "\n",
    "    return False\n",
    "\n",
    "N_queens(N)\n",
    "for i in board:\n",
    "    print (i)"
   ]
  },
  {
   "cell_type": "code",
   "execution_count": null,
   "metadata": {
    "dotnet_interactive": {
     "language": "csharp"
    },
    "polyglot_notebook": {
     "kernelName": "csharp"
    }
   },
   "outputs": [],
   "source": [
    "# Taking number of queens as input from user\n",
    "print (\"Enter the number of queens\")\n",
    "N = int(input())\n",
    "\n",
    "# here we create a chessboard\n",
    "# NxN matrix with all elements set to 0\n",
    "board = [0] * N\n",
    "\n",
    "def can_place(row, col):\n",
    "    for i in range(row):\n",
    "        if board[i] == col or abs(board[i] - col) == abs(i - row):\n",
    "            return False\n",
    "    return True\n",
    "\n",
    "def N_queens(row):\n",
    "    if row == N:\n",
    "        return 1\n",
    "\n",
    "    solutions = 0\n",
    "    for col in range(N):\n",
    "        if can_place(row, col):\n",
    "            board[row] = col\n",
    "            solutions += N_queens(row + 1)\n",
    "\n",
    "    return solutions\n",
    "\n",
    "solutions = N_queens(0)\n",
    "print(\"Number of solutions: \", solutions)\n"
   ]
  },
  {
   "attachments": {},
   "cell_type": "markdown",
   "metadata": {
    "dotnet_interactive": {
     "language": "csharp"
    },
    "polyglot_notebook": {
     "kernelName": "csharp"
    }
   },
   "source": [
    "# 8 Puzzel"
   ]
  },
  {
   "cell_type": "code",
   "execution_count": null,
   "metadata": {
    "dotnet_interactive": {
     "language": "csharp"
    },
    "polyglot_notebook": {
     "kernelName": "csharp"
    }
   },
   "outputs": [],
   "source": [
    "import heapq\n",
    "\n",
    "def swap(x, i, j):\n",
    "    x[i], x[j] = x[j], x[i]\n",
    "\n",
    "class State:\n",
    "    def __init__(self, board, g=0, h=0):\n",
    "        self.board = board\n",
    "        self.g = g\n",
    "        self.h = h\n",
    "        self.f = self.g + self.h\n",
    "\n",
    "    def __lt__(self, other):\n",
    "        return self.f < other.f\n",
    "\n",
    "def get_neighbors(state):\n",
    "    zero_idx = state.board.index(0)\n",
    "    neighbors = []\n",
    "\n",
    "    if zero_idx % 3 != 0:\n",
    "        board = list(state.board)\n",
    "        swap(board, zero_idx, zero_idx - 1)\n",
    "        neighbors.append(State(board, state.g + 1, 0))\n",
    "\n",
    "    if zero_idx % 3 != 2:\n",
    "        board = list(state.board)\n",
    "        swap(board, zero_idx, zero_idx + 1)\n",
    "        neighbors.append(State(board, state.g + 1, 0))\n",
    "\n",
    "    if zero_idx > 2:\n",
    "        board = list(state.board)\n",
    "        swap(board, zero_idx, zero_idx - 3)\n",
    "        neighbors.append(State(board, state.g + 1, 0))\n",
    "\n",
    "    if zero_idx < 6:\n",
    "        board = list(state.board)\n",
    "        swap(board, zero_idx, zero_idx + 3)\n",
    "        neighbors.append(State(board, state.g + 1, 0))\n",
    "\n",
    "    return neighbors\n",
    "\n",
    "def solve_puzzle(start, goal):\n",
    "    open_list = []\n",
    "    heapq.heappush(open_list, start)\n",
    "    closed_list = set()\n",
    "\n",
    "    while open_list:\n",
    "        curr = heapq.heappop(open_list)\n",
    "\n",
    "        if curr.board == goal:\n",
    "            return curr.g\n",
    "\n",
    "        closed_list.add(tuple(curr.board))\n",
    "        neighbors = get_neighbors(curr)\n",
    "\n",
    "        for neighbor in neighbors:\n",
    "            if tuple(neighbor.board) not in closed_list:\n",
    "                heapq.heappush(open_list, neighbor)\n",
    "\n",
    "    return -1\n",
    "\n",
    "start = State([1, 2, 3, 4, 0, 5, 6, 7, 8])\n",
    "goal = State([1, 2, 3, 4, 5, 8, 6, 0, 7])\n",
    "\n",
    "print(\"Minimum number of moves: \", solve_puzzle(start, goal))\n"
   ]
  },
  {
   "attachments": {},
   "cell_type": "markdown",
   "metadata": {
    "dotnet_interactive": {
     "language": "csharp"
    },
    "polyglot_notebook": {
     "kernelName": "csharp"
    }
   },
   "source": [
    "# Tik Tak Toe"
   ]
  },
  {
   "cell_type": "code",
   "execution_count": 1,
   "metadata": {
    "dotnet_interactive": {
     "language": "csharp"
    },
    "polyglot_notebook": {
     "kernelName": "csharp"
    }
   },
   "outputs": [
    {
     "name": "stdout",
     "output_type": "stream",
     "text": [
      "  |   |  \n",
      "---------\n",
      "  |   |  \n",
      "---------\n",
      "  |   |  \n",
      "---------\n",
      "Player X, enter your move (row column):\n"
     ]
    },
    {
     "ename": "ValueError",
     "evalue": "not enough values to unpack (expected 2, got 1)",
     "output_type": "error",
     "traceback": [
      "\u001b[1;31m---------------------------------------------------------------------------\u001b[0m",
      "\u001b[1;31mValueError\u001b[0m                                Traceback (most recent call last)",
      "\u001b[1;32m~\\AppData\\Local\\Temp\\ipykernel_20324\\2839642965.py\u001b[0m in \u001b[0;36m<module>\u001b[1;34m\u001b[0m\n\u001b[0;32m     41\u001b[0m         \u001b[0mcurrent_player\u001b[0m \u001b[1;33m=\u001b[0m \u001b[1;34m'O'\u001b[0m \u001b[1;32mif\u001b[0m \u001b[0mcurrent_player\u001b[0m \u001b[1;33m==\u001b[0m \u001b[1;34m'X'\u001b[0m \u001b[1;32melse\u001b[0m \u001b[1;34m'X'\u001b[0m\u001b[1;33m\u001b[0m\u001b[1;33m\u001b[0m\u001b[0m\n\u001b[0;32m     42\u001b[0m \u001b[1;33m\u001b[0m\u001b[0m\n\u001b[1;32m---> 43\u001b[1;33m \u001b[0mtic_tac_toe\u001b[0m\u001b[1;33m(\u001b[0m\u001b[1;33m)\u001b[0m\u001b[1;33m\u001b[0m\u001b[1;33m\u001b[0m\u001b[0m\n\u001b[0m",
      "\u001b[1;32m~\\AppData\\Local\\Temp\\ipykernel_20324\\2839642965.py\u001b[0m in \u001b[0;36mtic_tac_toe\u001b[1;34m()\u001b[0m\n\u001b[0;32m     30\u001b[0m         \u001b[0mdisplay_board\u001b[0m\u001b[1;33m(\u001b[0m\u001b[0mboard\u001b[0m\u001b[1;33m)\u001b[0m\u001b[1;33m\u001b[0m\u001b[1;33m\u001b[0m\u001b[0m\n\u001b[0;32m     31\u001b[0m         \u001b[0mprint\u001b[0m\u001b[1;33m(\u001b[0m\u001b[1;34mf\"Player {current_player}, enter your move (row column):\"\u001b[0m\u001b[1;33m)\u001b[0m\u001b[1;33m\u001b[0m\u001b[1;33m\u001b[0m\u001b[0m\n\u001b[1;32m---> 32\u001b[1;33m         \u001b[0mrow\u001b[0m\u001b[1;33m,\u001b[0m \u001b[0mcol\u001b[0m \u001b[1;33m=\u001b[0m \u001b[0mmap\u001b[0m\u001b[1;33m(\u001b[0m\u001b[0mint\u001b[0m\u001b[1;33m,\u001b[0m \u001b[0minput\u001b[0m\u001b[1;33m(\u001b[0m\u001b[1;33m)\u001b[0m\u001b[1;33m.\u001b[0m\u001b[0msplit\u001b[0m\u001b[1;33m(\u001b[0m\u001b[1;33m)\u001b[0m\u001b[1;33m)\u001b[0m\u001b[1;33m\u001b[0m\u001b[1;33m\u001b[0m\u001b[0m\n\u001b[0m\u001b[0;32m     33\u001b[0m         \u001b[1;32mif\u001b[0m \u001b[0mboard\u001b[0m\u001b[1;33m[\u001b[0m\u001b[0mrow\u001b[0m\u001b[1;33m]\u001b[0m\u001b[1;33m[\u001b[0m\u001b[0mcol\u001b[0m\u001b[1;33m]\u001b[0m \u001b[1;33m!=\u001b[0m \u001b[1;34m' '\u001b[0m\u001b[1;33m:\u001b[0m\u001b[1;33m\u001b[0m\u001b[1;33m\u001b[0m\u001b[0m\n\u001b[0;32m     34\u001b[0m             \u001b[0mprint\u001b[0m\u001b[1;33m(\u001b[0m\u001b[1;34m\"Cell already filled, try again.\"\u001b[0m\u001b[1;33m)\u001b[0m\u001b[1;33m\u001b[0m\u001b[1;33m\u001b[0m\u001b[0m\n",
      "\u001b[1;31mValueError\u001b[0m: not enough values to unpack (expected 2, got 1)"
     ]
    }
   ],
   "source": [
    "board = [[' ' for x in range(3)] for y in range(3)]\n",
    "\n",
    "def display_board(board):\n",
    "    for row in board:\n",
    "        print(' | '.join(row))\n",
    "        print('---------')\n",
    "\n",
    "def check_win(board, player):\n",
    "    # Check rows\n",
    "    for row in board:\n",
    "        if all(cell == player for cell in row):\n",
    "            return True\n",
    "    \n",
    "    # Check columns\n",
    "    for col in range(3):\n",
    "        if all(board[row][col] == player for row in range(3)):\n",
    "            return True\n",
    "    \n",
    "    # Check diagonals\n",
    "    if all(board[i][i] == player for i in range(3)):\n",
    "        return True\n",
    "    if all(board[i][2-i] == player for i in range(3)):\n",
    "        return True\n",
    "    \n",
    "    return False\n",
    "\n",
    "def tic_tac_toe():\n",
    "    current_player = 'X'\n",
    "    while True:\n",
    "        display_board(board)\n",
    "        print(f\"Player {current_player}, enter your move (row column):\")\n",
    "        row, col = map(int, input().split())\n",
    "        if board[row][col] != ' ':\n",
    "            print(\"Cell already filled, try again.\")\n",
    "            continue\n",
    "        board[row][col] = current_player\n",
    "        if check_win(board, current_player):\n",
    "            display_board(board)\n",
    "            print(f\"Player {current_player} wins!\")\n",
    "            break\n",
    "        current_player = 'O' if current_player == 'X' else 'X'\n",
    "\n",
    "tic_tac_toe()\n"
   ]
  },
  {
   "cell_type": "code",
   "execution_count": null,
   "metadata": {
    "dotnet_interactive": {
     "language": "csharp"
    },
    "polyglot_notebook": {
     "kernelName": "csharp"
    }
   },
   "outputs": [],
   "source": [
    "import numpy as np\n",
    "\n",
    "class Node:\n",
    "    def __init__(self, board, move=None, parent=None):\n",
    "        self.board = board\n",
    "        self.move = move\n",
    "        self.children = []\n",
    "        self.parent = parent\n",
    "        self.result = None\n",
    "\n",
    "    def generate_children(self):\n",
    "        for row in range(3):\n",
    "            for col in range(3):\n",
    "                if self.board[row][col] == 0:\n",
    "                    move = (row, col)\n",
    "                    child_board = np.copy(self.board)\n",
    "                    child_board[row][col] = 1 if self.result is None else -1\n",
    "                    child = Node(child_board, move, self)\n",
    "                    self.children.append(child)\n",
    "\n",
    "    def is_terminal(self):\n",
    "        for row in range(3):\n",
    "            if abs(sum(self.board[row,:])) == 3:\n",
    "                self.result = 1 if sum(self.board[row,:]) == 3 else -1\n",
    "                return True\n",
    "        for col in range(3):\n",
    "            if abs(sum(self.board[:,col])) == 3:\n",
    "                self.result = 1 if sum(self.board[:,col]) == 3 else -1\n",
    "                return True\n",
    "        if abs(sum(np.diag(self.board))) == 3:\n",
    "            self.result = 1 if sum(np.diag(self.board)) == 3 else -1\n",
    "            return True\n",
    "        if abs(sum(np.diag(np.fliplr(self.board)))) == 3:\n",
    "            self.result = 1 if sum(np.diag(np.fliplr(self.board))) == 3 else -1\n",
    "            return True\n",
    "        if np.count_nonzero(self.board) == 9:\n",
    "            self.result = 0\n",
    "            return True\n",
    "        return False\n",
    "\n",
    "    def mini_max(self, maximizing_player):\n",
    "        if self.is_terminal():\n",
    "            return self.result\n",
    "        if maximizing_player:\n",
    "            best_value = -2\n",
    "            for child in self.children:\n",
    "                value = child.mini_max(False)\n",
    "                best_value = max(best_value, value)\n",
    "                self.result = best_value\n",
    "            return best_value\n",
    "        else:\n",
    "            best_value = 2\n",
    "            for child in self.children:\n",
    "                value = child.mini_max(True)\n",
    "                best_value = min(best_value, value)\n",
    "                self.result = best_value\n",
    "            return best_value\n",
    "\n",
    "def tic_tac_toe(board):\n",
    "    root = Node(board)\n",
    "    root.generate_children()\n",
    "    root.mini_max(True)\n",
    "    best_move = None\n",
    "    best_value = -2\n",
    "    for child in root.children:\n",
    "        if child.result > best_value:\n",
    "            best_value = child.result\n",
    "            best_move = child.move\n",
    "    return best_move\n",
    "\n",
    "board = np.zeros((3,3), dtype=int)\n",
    "move = tic_tac_toe(board)\n",
    "print(move)\n"
   ]
  },
  {
   "cell_type": "code",
   "execution_count": null,
   "metadata": {
    "dotnet_interactive": {
     "language": "csharp"
    },
    "polyglot_notebook": {
     "kernelName": "csharp"
    }
   },
   "outputs": [],
   "source": [
    "class TicTacToe:\n",
    "    def __init__(self):\n",
    "        self.board = [[\"_\"] * 3 for _ in range(3)]\n",
    "\n",
    "    def check_win(self, symbol):\n",
    "        # Check rows\n",
    "        for row in self.board:\n",
    "            if row == [symbol] * 3:\n",
    "                return True\n",
    "        # Check columns\n",
    "        for col in range(3):\n",
    "            if [self.board[row][col] for row in range(3)] == [symbol] * 3:\n",
    "                return True\n",
    "        # Check diagonals\n",
    "        if [self.board[i][i] for i in range(3)] == [symbol] * 3:\n",
    "            return True\n",
    "        if [self.board[i][2 - i] for i in range(3)] == [symbol] * 3:\n",
    "            return True\n",
    "        return False\n",
    "\n",
    "    def minimax(self, turn):\n",
    "        if self.check_win(\"O\"):\n",
    "            return -1\n",
    "        if self.check_win(\"X\"):\n",
    "            return 1\n",
    "        if \"_\" not in [cell for row in self.board for cell in row]:\n",
    "            return 0\n",
    "\n",
    "        if turn == \"O\":\n",
    "            best_value = float(\"inf\")\n",
    "            for row in range(3):\n",
    "                for col in range(3):\n",
    "                    if self.board[row][col] == \"_\":\n",
    "                        self.board[row][col] = \"O\"\n",
    "                        value = self.minimax(\"X\")\n",
    "                        self.board[row][col] = \"_\"\n",
    "                        best_value = min(best_value, value)\n",
    "            return best_value\n",
    "        else:\n",
    "            best_value = float(\"-inf\")\n",
    "            for row in range(3):\n",
    "                for col in range(3):\n",
    "                    if self.board[row][col] == \"_\":\n",
    "                        self.board[row][col] = \"X\"\n",
    "                        value = self.minimax(\"O\")\n",
    "                        self.board[row][col] = \"_\"\n",
    "                        best_value = max(best_value, value)\n",
    "            return best_value\n",
    "\n",
    "    def make_move(self):\n",
    "        best_value = float(\"-inf\")\n",
    "        move = None\n",
    "        for row in range(3):\n",
    "            for col in range(3):\n",
    "                if self.board[row][col] == \"_\":\n",
    "                    self.board[row][col] = \"X\"\n",
    "                    value = self.minimax(\"O\")\n",
    "                    self.board[row][col] = \"_\"\n",
    "                    if value > best_value:\n",
    "                        best_value = value\n",
    "                        move = (row, col)\n",
    "        self.board[move[0]][move[1]] = \"X\"\n",
    "\n",
    "game = TicTacToe()\n",
    "while \"_\" in [cell for row in game.board for cell in row]:\n",
    "    print(\"Current board:\")\n",
    "    for row in game.board:\n",
    "        print(row)\n",
    "    game.make_move()\n",
    "    if \"_\" in [cell for row in game.board for cell in row]:\n",
    "        row, col = map(int, input(\"Enter your move (row col): \").strip().split())\n"
   ]
  }
 ],
 "metadata": {
  "kernelspec": {
   "display_name": "base",
   "language": "python",
   "name": "python3"
  },
  "language_info": {
   "codemirror_mode": {
    "name": "ipython",
    "version": 3
   },
   "file_extension": ".py",
   "mimetype": "text/x-python",
   "name": "python",
   "nbconvert_exporter": "python",
   "pygments_lexer": "ipython3",
   "version": "3.9.13"
  },
  "polyglot_notebook": {
   "kernelInfo": {
    "defaultKernelName": "csharp",
    "items": [
     {
      "aliases": [],
      "name": "csharp"
     },
     {
      "aliases": [
       "frontend"
      ],
      "languageName": null,
      "name": "vscode"
     }
    ]
   }
  },
  "vscode": {
   "interpreter": {
    "hash": "b3e0e0fc4c3b1807e01c5612f493dc5a14ad9737293e4ea347fe8a9f0c3f8e07"
   }
  }
 },
 "nbformat": 4,
 "nbformat_minor": 2
}
