{
  "nbformat": 4,
  "nbformat_minor": 0,
  "metadata": {
    "colab": {
      "provenance": []
    },
    "kernelspec": {
      "name": "python3",
      "display_name": "Python 3"
    },
    "language_info": {
      "name": "python"
    }
  },
  "cells": [
    {
      "cell_type": "code",
      "execution_count": 1,
      "metadata": {
        "id": "sD5ybnC_S8ac"
      },
      "outputs": [],
      "source": [
        "import numpy as np\n",
        "import pandas as pd\n",
        "import tensorflow as tf"
      ]
    },
    {
      "cell_type": "code",
      "source": [
        "tf.__version__"
      ],
      "metadata": {
        "colab": {
          "base_uri": "https://localhost:8080/",
          "height": 35
        },
        "id": "Xhk8ndEBVDNO",
        "outputId": "149dee3c-c6dd-41d2-fcaa-4074cfbb198e"
      },
      "execution_count": 2,
      "outputs": [
        {
          "output_type": "execute_result",
          "data": {
            "text/plain": [
              "'2.11.0'"
            ],
            "application/vnd.google.colaboratory.intrinsic+json": {
              "type": "string"
            }
          },
          "metadata": {},
          "execution_count": 2
        }
      ]
    },
    {
      "cell_type": "markdown",
      "source": [
        "Data preprocessing"
      ],
      "metadata": {
        "id": "MG05UBa7VIyJ"
      }
    },
    {
      "cell_type": "code",
      "source": [
        "dataset = pd.read_csv('/content/drive/MyDrive/Churn_Modelling.csv')\n",
        "x = dataset.iloc[:,3:-1].values\n",
        "y = dataset.iloc[:,-1].values"
      ],
      "metadata": {
        "id": "ipqChgWoVQg9"
      },
      "execution_count": 3,
      "outputs": []
    },
    {
      "cell_type": "code",
      "source": [
        "from sklearn.preprocessing import LabelEncoder\n",
        "le = LabelEncoder()\n",
        "x[:,2] = le.fit_transform(x[:,2])"
      ],
      "metadata": {
        "id": "kkUZfpmjVGWe"
      },
      "execution_count": 4,
      "outputs": []
    },
    {
      "cell_type": "code",
      "source": [
        "print(x)"
      ],
      "metadata": {
        "colab": {
          "base_uri": "https://localhost:8080/"
        },
        "id": "_afHoJUFWP68",
        "outputId": "bcd83867-796d-4e8c-9276-7f40724fe0df"
      },
      "execution_count": 5,
      "outputs": [
        {
          "output_type": "stream",
          "name": "stdout",
          "text": [
            "[[619 'France' 0 ... 1 1 101348.88]\n",
            " [608 'Spain' 0 ... 0 1 112542.58]\n",
            " [502 'France' 0 ... 1 0 113931.57]\n",
            " ...\n",
            " [709 'France' 0 ... 0 1 42085.58]\n",
            " [772 'Germany' 1 ... 1 0 92888.52]\n",
            " [792 'France' 0 ... 1 0 38190.78]]\n"
          ]
        }
      ]
    },
    {
      "cell_type": "code",
      "source": [
        "from sklearn.compose  import  ColumnTransformer\n",
        "from sklearn.preprocessing import OneHotEncoder\n",
        "ct = ColumnTransformer(transformers=[('encoder',OneHotEncoder(),[1])],remainder=\"passthrough\")\n",
        "x = np.array(ct.fit_transform(x))"
      ],
      "metadata": {
        "id": "FJIUP-TwWQcF"
      },
      "execution_count": 6,
      "outputs": []
    },
    {
      "cell_type": "code",
      "source": [
        "print(x)"
      ],
      "metadata": {
        "colab": {
          "base_uri": "https://localhost:8080/"
        },
        "id": "OpOKusc8XYEW",
        "outputId": "992e6d7f-c2c9-48ca-8d87-8520089e5ef1"
      },
      "execution_count": 7,
      "outputs": [
        {
          "output_type": "stream",
          "name": "stdout",
          "text": [
            "[[1.0 0.0 0.0 ... 1 1 101348.88]\n",
            " [0.0 0.0 1.0 ... 0 1 112542.58]\n",
            " [1.0 0.0 0.0 ... 1 0 113931.57]\n",
            " ...\n",
            " [1.0 0.0 0.0 ... 0 1 42085.58]\n",
            " [0.0 1.0 0.0 ... 1 0 92888.52]\n",
            " [1.0 0.0 0.0 ... 1 0 38190.78]]\n"
          ]
        }
      ]
    },
    {
      "cell_type": "markdown",
      "source": [
        "splitting the dataset into the training set and test set"
      ],
      "metadata": {
        "id": "wccMQuGFXrNm"
      }
    },
    {
      "cell_type": "code",
      "source": [
        "from sklearn.model_selection import train_test_split\n",
        "x_train,x_test,y_train,y_test = train_test_split(x, y, test_size = 0.2, random_state=0)"
      ],
      "metadata": {
        "id": "befqfcN6XYsq"
      },
      "execution_count": 8,
      "outputs": []
    },
    {
      "cell_type": "markdown",
      "source": [
        "feature scaling"
      ],
      "metadata": {
        "id": "zpWKhMz2YNi_"
      }
    },
    {
      "cell_type": "code",
      "source": [
        "from sklearn.preprocessing import StandardScaler\n",
        "sc = StandardScaler()\n",
        "x_train = sc.fit_transform(x_train)\n",
        "x_test = sc.transform(x_test)"
      ],
      "metadata": {
        "id": "GOndBgsVYSZo"
      },
      "execution_count": 9,
      "outputs": []
    },
    {
      "cell_type": "markdown",
      "source": [
        "Part -2 Building the ANN"
      ],
      "metadata": {
        "id": "8iR7OP-sY7iK"
      }
    },
    {
      "cell_type": "markdown",
      "source": [
        "Initializing the ANN"
      ],
      "metadata": {
        "id": "TDYF6wc4Y4nJ"
      }
    },
    {
      "cell_type": "code",
      "source": [
        "ann = tf.keras.models.Sequential()"
      ],
      "metadata": {
        "id": "JSrLdWUOY33V"
      },
      "execution_count": 10,
      "outputs": []
    },
    {
      "cell_type": "markdown",
      "source": [
        "Adding the input layer and first hidden layer"
      ],
      "metadata": {
        "id": "yb1reGyeZWlO"
      }
    },
    {
      "cell_type": "code",
      "source": [
        "# ann.add(tf.keras.Input(shape=(11,)))"
      ],
      "metadata": {
        "id": "txak-zMGZSoJ"
      },
      "execution_count": 11,
      "outputs": []
    },
    {
      "cell_type": "code",
      "source": [
        "ann.add(tf.keras.layers.Dense(units=6,activation='relu'))"
      ],
      "metadata": {
        "id": "E1vzpRENZgcS"
      },
      "execution_count": 12,
      "outputs": []
    },
    {
      "cell_type": "markdown",
      "source": [
        "Adding the second hidden layer"
      ],
      "metadata": {
        "id": "SJuVhma_ZoQl"
      }
    },
    {
      "cell_type": "code",
      "source": [
        "ann.add(tf.keras.layers.Dense(units=6,activation='relu'))"
      ],
      "metadata": {
        "id": "3M_sjOYqZnSh"
      },
      "execution_count": 13,
      "outputs": []
    },
    {
      "cell_type": "markdown",
      "source": [
        "adding the output layer"
      ],
      "metadata": {
        "id": "oqEZgte6bSny"
      }
    },
    {
      "cell_type": "code",
      "source": [
        "ann.add(tf.keras.layers.Dense(units=1,activation='sigmoid'))"
      ],
      "metadata": {
        "id": "p_ynrlghbRaH"
      },
      "execution_count": 14,
      "outputs": []
    },
    {
      "cell_type": "markdown",
      "source": [
        "Part - 3 Training the ANN"
      ],
      "metadata": {
        "id": "WleIGDBlblwm"
      }
    },
    {
      "cell_type": "markdown",
      "source": [
        "compiling the ANN"
      ],
      "metadata": {
        "id": "JzaLBhXVbt48"
      }
    },
    {
      "cell_type": "code",
      "source": [
        "ann.compile(optimizer='adam',loss = 'binary_crossentropy', metrics=['accuracy'])"
      ],
      "metadata": {
        "id": "GawBSMUkbklm"
      },
      "execution_count": 15,
      "outputs": []
    },
    {
      "cell_type": "markdown",
      "source": [
        "Training theANN on the Training Set"
      ],
      "metadata": {
        "id": "F8lKaqecb5y_"
      }
    },
    {
      "cell_type": "code",
      "source": [
        "ann.fit(x_train,y_train,batch_size = 32 , epochs=20)"
      ],
      "metadata": {
        "colab": {
          "base_uri": "https://localhost:8080/"
        },
        "id": "LHa5eXuTcCdF",
        "outputId": "44849f11-8c00-461e-aa62-b944833ca547"
      },
      "execution_count": null,
      "outputs": [
        {
          "output_type": "stream",
          "name": "stdout",
          "text": [
            "Epoch 1/20\n",
            "250/250 [==============================] - 6s 8ms/step - loss: 0.5391 - accuracy: 0.7960\n",
            "Epoch 2/20\n",
            "250/250 [==============================] - 2s 6ms/step - loss: 0.4724 - accuracy: 0.7960\n",
            "Epoch 3/20\n",
            "250/250 [==============================] - 1s 5ms/step - loss: 0.4426 - accuracy: 0.8070\n",
            "Epoch 4/20\n",
            "250/250 [==============================] - 1s 5ms/step - loss: 0.4301 - accuracy: 0.8169\n",
            "Epoch 5/20\n",
            "250/250 [==============================] - 1s 5ms/step - loss: 0.4219 - accuracy: 0.8183\n",
            "Epoch 6/20\n",
            "250/250 [==============================] - 1s 5ms/step - loss: 0.4157 - accuracy: 0.8189\n",
            "Epoch 7/20\n",
            "250/250 [==============================] - 1s 4ms/step - loss: 0.4100 - accuracy: 0.8235\n",
            "Epoch 8/20\n",
            "250/250 [==============================] - 1s 5ms/step - loss: 0.4045 - accuracy: 0.8270\n",
            "Epoch 9/20\n",
            "250/250 [==============================] - 1s 4ms/step - loss: 0.3986 - accuracy: 0.8309\n",
            "Epoch 10/20\n",
            "250/250 [==============================] - 1s 4ms/step - loss: 0.3927 - accuracy: 0.8332\n",
            "Epoch 11/20\n",
            "250/250 [==============================] - 2s 8ms/step - loss: 0.3860 - accuracy: 0.8381\n",
            "Epoch 12/20\n",
            "250/250 [==============================] - 3s 11ms/step - loss: 0.3790 - accuracy: 0.8432\n",
            "Epoch 13/20\n",
            "250/250 [==============================] - 2s 7ms/step - loss: 0.3721 - accuracy: 0.8472\n",
            "Epoch 14/20\n",
            "250/250 [==============================] - 1s 5ms/step - loss: 0.3654 - accuracy: 0.8514\n",
            "Epoch 15/20\n",
            "250/250 [==============================] - 1s 4ms/step - loss: 0.3588 - accuracy: 0.8550\n",
            "Epoch 16/20\n",
            "250/250 [==============================] - 1s 4ms/step - loss: 0.3544 - accuracy: 0.8566\n",
            "Epoch 17/20\n",
            "250/250 [==============================] - 1s 4ms/step - loss: 0.3508 - accuracy: 0.8579\n",
            "Epoch 18/20\n",
            "250/250 [==============================] - 1s 4ms/step - loss: 0.3485 - accuracy: 0.8583\n",
            "Epoch 19/20\n",
            "250/250 [==============================] - 1s 4ms/step - loss: 0.3471 - accuracy: 0.8586\n",
            "Epoch 20/20\n",
            "250/250 [==============================] - 1s 6ms/step - loss: 0.3462 - accuracy: 0.8581\n"
          ]
        }
      ]
    },
    {
      "cell_type": "markdown",
      "source": [
        "Part - 4 Making prediction and evaluation the model"
      ],
      "metadata": {
        "id": "JBV87gOOdFPh"
      }
    },
    {
      "cell_type": "markdown",
      "source": [
        "Predicting the result of a single observation\n",
        "\n",
        "Use our ANN model to predict if the customer with the following informations \n",
        "\n",
        "will leave the bank:\n",
        "\n",
        "Geography: France\n",
        "\n",
        "Credit Score: 600\n",
        "\n",
        "Gender: Male\n",
        "\n",
        "Age: 40 years old\n",
        "\n",
        "Tenure: 3 years\n",
        "\n",
        "Balance: $ 60000\n",
        "\n",
        "Number of Products: 2\n",
        "\n",
        "Does this customer have a credit card ? Yes\n",
        "\n",
        "Is this customer an Active Member: Yes\n",
        "\n",
        "Estimated Salary: $ 50000\n",
        "\n",
        "So, should we say goodbye to that customer ?"
      ],
      "metadata": {
        "id": "h7iH57_8diSY"
      }
    },
    {
      "cell_type": "code",
      "source": [
        "print(ann.predict(sc.transform([[1, 0, 0, 600, 1, 40, 3, 60000, 2, 1, 1, 50000]])) > 0.5)"
      ],
      "metadata": {
        "id": "wixKwp37cWKC"
      },
      "execution_count": null,
      "outputs": []
    },
    {
      "cell_type": "code",
      "source": [
        "y_pred = ann.predict(x_test)\n",
        "y_pred = (y_pred > 0.5)\n",
        "print(np.concatenate((y_pred.reshape(len(y_pred),1), y_test.reshape(len(y_test),1)),1))"
      ],
      "metadata": {
        "id": "Y83-uJB5etbi"
      },
      "execution_count": null,
      "outputs": []
    },
    {
      "cell_type": "code",
      "source": [
        "from sklearn.metrics import confusion_matrix, accuracy_score\n",
        "cm = confusion_matrix(y_test, y_pred)\n",
        "print(cm)\n",
        "accuracy_score(y_test, y_pred)"
      ],
      "metadata": {
        "id": "Z67LHCjvezSj"
      },
      "execution_count": null,
      "outputs": []
    }
  ]
}