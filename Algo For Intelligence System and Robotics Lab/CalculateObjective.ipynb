{
 "cells": [
  {
   "cell_type": "code",
   "execution_count": 1,
   "metadata": {},
   "outputs": [],
   "source": [
    "def calculateObjective(board, state):\n",
    "    N = len(board)\n",
    "    attacking = 0\n",
    "    for i in range(N):\n",
    "        #1\n",
    "        row = state[i]\n",
    "        col = i - 1\n",
    "        while col >= 0 and board[row][col] != 1:\n",
    "            col -= 1\n",
    "        if col >= 0 and board[row][col] == 1:\n",
    "            attacking += 1\n",
    "        #2\n",
    "        row = state[i]\n",
    "        col = i + 1\n",
    "        while col < N and board[row][col] != 1:\n",
    "            col += 1\n",
    "        if col < N and board[row][col] == 1:\n",
    "            attacking += 1\n",
    "        #3\n",
    "        row = state[i] - 1\n",
    "        col = i - 1\n",
    "        while col >= 0 and row >= 0 and board[row][col] != 1:\n",
    "            col -= 1\n",
    "            row -= 1\n",
    "        if col >= 0 and row >= 0 and board[row][col] == 1:\n",
    "            attacking += 1\n",
    "        #4\n",
    "        row = state[i] + 1\n",
    "        col = i + 1\n",
    "        while col < N and row < N and board[row][col] != 1:\n",
    "            col += 1\n",
    "            row += 1\n",
    "        if col < N and row < N and board[row][col] == 1:\n",
    "            attacking += 1\n",
    "        #5\n",
    "        row = state[i] + 1\n",
    "        col = i - 1\n",
    "        while col >= 0 and row < N and board[row][col] != 1:\n",
    "            col -= 1\n",
    "            row += 1\n",
    "        if col >= 0 and row < N and board[row][col] == 1:\n",
    "            attacking += 1\n",
    "\n",
    "        #6\n",
    "        row = state[i] - 1\n",
    "        col = i + 1\n",
    "        while col < N and row >= 0 and board[row][col] != 1:\n",
    "            col += 1\n",
    "            row -= 1\n",
    "        if col < N and row >= 0 and board[row][col] == 1:\n",
    "            attacking += 1\n",
    "\n",
    "    return int(attacking / 2)\n"
   ]
  },
  {
   "cell_type": "markdown",
   "metadata": {},
   "source": [
    "def "
   ]
  },
  {
   "cell_type": "code",
   "execution_count": null,
   "metadata": {},
   "outputs": [],
   "source": []
  }
 ],
 "metadata": {
  "kernelspec": {
   "display_name": "base",
   "language": "python",
   "name": "python3"
  },
  "language_info": {
   "codemirror_mode": {
    "name": "ipython",
    "version": 3
   },
   "file_extension": ".py",
   "mimetype": "text/x-python",
   "name": "python",
   "nbconvert_exporter": "python",
   "pygments_lexer": "ipython3",
   "version": "3.9.13"
  },
  "orig_nbformat": 4,
  "vscode": {
   "interpreter": {
    "hash": "b3e0e0fc4c3b1807e01c5612f493dc5a14ad9737293e4ea347fe8a9f0c3f8e07"
   }
  }
 },
 "nbformat": 4,
 "nbformat_minor": 2
}
