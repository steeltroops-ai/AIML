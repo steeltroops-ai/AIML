{
 "cells": [
  {
   "cell_type": "code",
   "execution_count": 7,
   "metadata": {},
   "outputs": [
    {
     "ename": "ModuleNotFoundError",
     "evalue": "No module named 'chatterbot'",
     "output_type": "error",
     "traceback": [
      "\u001b[1;31m---------------------------------------------------------------------------\u001b[0m",
      "\u001b[1;31mModuleNotFoundError\u001b[0m                       Traceback (most recent call last)",
      "\u001b[1;32m~\\AppData\\Local\\Temp\\ipykernel_18184\\3947075672.py\u001b[0m in \u001b[0;36m<module>\u001b[1;34m\u001b[0m\n\u001b[0;32m      1\u001b[0m \u001b[1;31m# Import necessary libraries\u001b[0m\u001b[1;33m\u001b[0m\u001b[1;33m\u001b[0m\u001b[0m\n\u001b[0;32m      2\u001b[0m \u001b[1;32mimport\u001b[0m \u001b[0mnltk\u001b[0m\u001b[1;33m\u001b[0m\u001b[1;33m\u001b[0m\u001b[0m\n\u001b[1;32m----> 3\u001b[1;33m \u001b[1;32mfrom\u001b[0m \u001b[0mchatterbot\u001b[0m \u001b[1;32mimport\u001b[0m \u001b[0mChatBot\u001b[0m\u001b[1;33m\u001b[0m\u001b[1;33m\u001b[0m\u001b[0m\n\u001b[0m\u001b[0;32m      4\u001b[0m \u001b[1;32mfrom\u001b[0m \u001b[0mchatterbot\u001b[0m\u001b[1;33m.\u001b[0m\u001b[0mtrainers\u001b[0m \u001b[1;32mimport\u001b[0m \u001b[0mChatterBotCorpusTrainer\u001b[0m\u001b[1;33m\u001b[0m\u001b[1;33m\u001b[0m\u001b[0m\n\u001b[0;32m      5\u001b[0m \u001b[1;32mfrom\u001b[0m \u001b[0mgtts\u001b[0m \u001b[1;32mimport\u001b[0m \u001b[0mgTTS\u001b[0m\u001b[1;33m\u001b[0m\u001b[1;33m\u001b[0m\u001b[0m\n",
      "\u001b[1;31mModuleNotFoundError\u001b[0m: No module named 'chatterbot'"
     ]
    }
   ],
   "source": [
    "# Import necessary libraries\n",
    "import nltk\n",
    "from chatterbot import ChatBot\n",
    "from chatterbot.trainers import ChatterBotCorpusTrainer\n",
    "from gtts import gTTS\n",
    "\n",
    "# Create ChatBot object and train it with the ChatterBot corpus\n",
    "chatbot = ChatBot(\"My ChatBot\")\n",
    "trainer = ChatterBotCorpusTrainer(chatbot)\n",
    "trainer.train(\"chatterbot.corpus.english.greetings\",\n",
    "              \"chatterbot.corpus.english.conversations\")\n",
    "\n",
    "# Function to process user input using NLP techniques\n",
    "def process_input(user_input):\n",
    "  # Tokenize input\n",
    "  tokens = nltk.word_tokenize(user_input)\n",
    "  # Perform lemmatization and stemming\n",
    "  lemmatizer = nltk.WordNetLemmatizer()\n",
    "  stemmed_tokens = [lemmatizer.lemmatize(token) for token in tokens]\n",
    "  stemmed_tokens = [nltk.PorterStemmer().stem(token) for token in stemmed_tokens]\n",
    "  return stemmed_tokens\n",
    "\n",
    "# Function to process response from ChatBot using NLP techniques and generate voice output\n",
    "def generate_response(response):\n",
    "  # Tokenize response\n",
    "  tokens = nltk.word_tokenize(response)\n",
    "  # Perform lemmatization and stemming\n",
    "  lemmatizer = nltk.WordNetLemmatizer()\n",
    "  stemmed_tokens = [lemmatizer.lemmatize(token) for token in tokens]\n",
    "  stemmed_tokens = [nltk.PorterStemmer().stem(token) for token in stemmed_tokens]\n",
    "  # Generate voice output using gTTS\n",
    "  response_voice = gTTS(\" \".join(stemmed_tokens))\n",
    "  response_voice.save(\"response.mp3\")\n",
    "\n",
    "# Main loop to continuously prompt user for input and generate responses\n",
    "while True:\n",
    "  user_input = input(\"You: \")\n",
    "  processed_input = process_input(user_input)\n",
    "  response = chatbot.get_response(processed_input)\n",
    "  print(\"ChatBot: \", response)\n",
    "  generate_response(response)\n"
   ]
  }
 ],
 "metadata": {
  "kernelspec": {
   "display_name": "base",
   "language": "python",
   "name": "python3"
  },
  "language_info": {
   "codemirror_mode": {
    "name": "ipython",
    "version": 3
   },
   "file_extension": ".py",
   "mimetype": "text/x-python",
   "name": "python",
   "nbconvert_exporter": "python",
   "pygments_lexer": "ipython3",
   "version": "3.9.13"
  },
  "orig_nbformat": 4,
  "vscode": {
   "interpreter": {
    "hash": "b3e0e0fc4c3b1807e01c5612f493dc5a14ad9737293e4ea347fe8a9f0c3f8e07"
   }
  }
 },
 "nbformat": 4,
 "nbformat_minor": 2
}
